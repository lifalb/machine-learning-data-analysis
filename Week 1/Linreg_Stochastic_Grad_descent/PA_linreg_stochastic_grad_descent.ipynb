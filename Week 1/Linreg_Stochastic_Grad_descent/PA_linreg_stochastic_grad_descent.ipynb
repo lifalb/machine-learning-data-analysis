{
 "cells": [
  {
   "attachments": {},
   "cell_type": "markdown",
   "metadata": {},
   "source": [
    "# Linear regression and stochastic gradient descent"
   ]
  },
  {
   "attachments": {},
   "cell_type": "markdown",
   "metadata": {},
   "source": [
    "The task is based on the materials of lectures on linear regression and gradient descent. You will forecast the company's revenue depending on the level of its investment in advertising on TV, in newspapers and on the radio."
   ]
  },
  {
   "attachments": {},
   "cell_type": "markdown",
   "metadata": {},
   "source": [
    "## You will learn:\n",
    "- solve the problem of linear regression recovery\n",
    "- implement stochastic gradient descent to adjust it\n",
    "- solve the linear regression problem analytically"
   ]
  },
  {
   "attachments": {},
   "cell_type": "markdown",
   "metadata": {},
   "source": [
    "## Introduction\n",
    "Linear regression is one of the most well-studied methods of machine learning, which allows predicting the values of a quantitative feature in the form of a linear combination of other features with model parameters - weights. Optimal (in the sense of minimality of some error functional) parameters of linear regression can be found analytically using a normal equation or numerically using optimization methods."
   ]
  },
  {
   "attachments": {},
   "cell_type": "markdown",
   "metadata": {},
   "source": [
    "Linear regression uses a simple quality functional - the root-mean-square error. We will work with a sample containing 3 attributes. To adjust the parameters (weights) of the model, the following problem is solved:\n",
    "$$\\Large\\frac{1}{\\ell}\\sum_{i=1}^\\ell{{((w_0 + w_1 x_{i 1} + w_2 x_{i 2} + w_3 x_{i3}) - y_i)}^2} \\rightarrow \\min_{w_0, w_1, w_2, w_3},$$\n",
    "where $x_{i1}, x_{i2}, x_{i3}$ are the values of the features of the $i$th object, $y_i$ is the value of the target feature of the $i$th object, $\\ell$ is the number of objects in the training sample."
   ]
  },
  {
   "attachments": {},
   "cell_type": "markdown",
   "metadata": {},
   "source": [
    "## Gradient descent\n",
    "The parameters $w_0, w_1, w_2, w_3$, by which the root-mean-square error is minimized, can be found numerically using gradient descent.\n",
    "The gradient step for the weights will look like this:\n",
    "$$\\Large w_0 \\leftarrow w_0 - \\frac{2\\eta}{\\ell} \\sum_{i=1}^\\ell{{((w_0 + w_1x_{i1} + w_2x_{i2} +  w_3x_{i3}) - y_i)}}$$\n",
    "$$\\Large w_j \\leftarrow w_j - \\frac{2\\eta}{\\ell} \\sum_{i=1}^\\ell{{x_{ij}((w_0 + w_1x_{i1} + w_2x_{i2} +  w_3x_{i3}) - y_i)}},\\ j \\in \\{1,2,3\\}$$\n",
    "Here $\\eta$ is a parameter, a step of gradient descent."
   ]
  },
  {
   "attachments": {},
   "cell_type": "markdown",
   "metadata": {},
   "source": [
    "## Stochastic gradient descent\n",
    "The problem with gradient descent described above is that for large samples, it can be very computationally difficult to calculate the gradient from all available data at each step. \n",
    "In the stochastic version of gradient descent, corrections for weights are calculated only taking into account one randomly taken object of the training sample:\n",
    "$$\\Large w_0 \\leftarrow w_0 - \\frac{2\\eta}{\\ell} {((w_0 + w_1x_{k1} + w_2x_{k2} +  w_3x_{k3}) - y_k)}$$\n",
    "$$\\Large w_j \\leftarrow w_j - \\frac{2\\eta}{\\ell} {x_{kj}((w_0 + w_1x_{k1} + w_2x_{k2} +  w_3x_{k3}) - y_k)},\\ j \\in \\{1,2,3\\},$$\n",
    "where $k$ is a random index, $k \\in \\{1, \\ldots, \\ell\\}$."
   ]
  },
  {
   "attachments": {},
   "cell_type": "markdown",
   "metadata": {},
   "source": [
    "## Normal equation \n",
    "Finding the vector of optimal weights $w$ can also be done analytically.\n",
    "We want to find such a vector of weights $w$ so that the vector $y$ approximating the target feature is obtained by multiplying the matrix $X$ (consisting of all the features of the objects of the training sample, except the target) by the vector of weights $w$. That is, so that the matrix equation is fulfilled:\n",
    "$$\\Large y = Xw$$\n",
    "Multiplying on the left by $X^T$ we get:\n",
    "$$\\Large X^Ty = X^TXw$$\n",
    "This is good, because now the matrix $X^TX$ is square, and you can find a solution (vector $w$) in the form:\n",
    "$$\\Large w = {(X^TX)}^{-1}X^Ty$$\n",
    "Matrix ${(X^TX)}^{-1}X^T$ - [*pseudo-inverse*](https://ru.wikipedia.org/wiki/Pseudo-inverse matrix) for the matrix $X$. In NumPy , such a matrix can be calculated using the functions [numpy.linalg.pinv](http://docs.scipy.org/doc/numpy-1.10.0/reference/generated/numpy.linalg.pinv.html).\n",
    "\n",
    "However, finding a pseudo-inverse matrix is a computationally complex and unstable operation in the case of a small determinant of the matrix $X$ (multicollinearity problem). \n",
    "In practice, it is better to find the vector of weights $w$ by solving the matrix equation\n",
    "$$\\Large X^TXw = X^Ty$$ \n",
    "This can be done using the function [numpy.linalg.solve](http://docs.scipy.org/doc/numpy-1.10.1/reference/generated/numpy.linalg.solve.html).\n",
    "\n",
    "But still, in practice, gradient descent works faster for large $X$ matrices, especially its stochastic version."
   ]
  },
  {
   "attachments": {},
   "cell_type": "markdown",
   "metadata": {},
   "source": [
    "## Execution Instructions"
   ]
  },
  {
   "attachments": {},
   "cell_type": "markdown",
   "metadata": {},
   "source": [
    "**1. Upload the data from the *advertising.csv* file to the pandas DataFrame object. [Data Source](http://www-bcf.usc.edu /~gareth/ISL/data.html ).**"
   ]
  },
  {
   "cell_type": "code",
   "execution_count": 13,
   "metadata": {},
   "outputs": [],
   "source": [
    "import numpy as np\n",
    "import pandas as pd\n",
    "import seaborn as sns\n",
    "import matplotlib.pyplot as plt\n",
    "%matplotlib inline\n",
    "\n",
    "adver_data = pd.read_csv('advertising.csv')"
   ]
  },
  {
   "attachments": {},
   "cell_type": "markdown",
   "metadata": {
    "collapsed": true
   },
   "source": [
    "**Look at the first 5 records and at the feature statistics in this dataset.**"
   ]
  },
  {
   "cell_type": "code",
   "execution_count": 14,
   "metadata": {},
   "outputs": [
    {
     "data": {
      "text/html": [
       "<div>\n",
       "<style scoped>\n",
       "    .dataframe tbody tr th:only-of-type {\n",
       "        vertical-align: middle;\n",
       "    }\n",
       "\n",
       "    .dataframe tbody tr th {\n",
       "        vertical-align: top;\n",
       "    }\n",
       "\n",
       "    .dataframe thead th {\n",
       "        text-align: right;\n",
       "    }\n",
       "</style>\n",
       "<table border=\"1\" class=\"dataframe\">\n",
       "  <thead>\n",
       "    <tr style=\"text-align: right;\">\n",
       "      <th></th>\n",
       "      <th>TV</th>\n",
       "      <th>Radio</th>\n",
       "      <th>Newspaper</th>\n",
       "      <th>Sales</th>\n",
       "    </tr>\n",
       "  </thead>\n",
       "  <tbody>\n",
       "    <tr>\n",
       "      <th>1</th>\n",
       "      <td>230.1</td>\n",
       "      <td>37.8</td>\n",
       "      <td>69.2</td>\n",
       "      <td>22.1</td>\n",
       "    </tr>\n",
       "    <tr>\n",
       "      <th>2</th>\n",
       "      <td>44.5</td>\n",
       "      <td>39.3</td>\n",
       "      <td>45.1</td>\n",
       "      <td>10.4</td>\n",
       "    </tr>\n",
       "    <tr>\n",
       "      <th>3</th>\n",
       "      <td>17.2</td>\n",
       "      <td>45.9</td>\n",
       "      <td>69.3</td>\n",
       "      <td>9.3</td>\n",
       "    </tr>\n",
       "    <tr>\n",
       "      <th>4</th>\n",
       "      <td>151.5</td>\n",
       "      <td>41.3</td>\n",
       "      <td>58.5</td>\n",
       "      <td>18.5</td>\n",
       "    </tr>\n",
       "    <tr>\n",
       "      <th>5</th>\n",
       "      <td>180.8</td>\n",
       "      <td>10.8</td>\n",
       "      <td>58.4</td>\n",
       "      <td>12.9</td>\n",
       "    </tr>\n",
       "  </tbody>\n",
       "</table>\n",
       "</div>"
      ],
      "text/plain": [
       "      TV  Radio  Newspaper  Sales\n",
       "1  230.1   37.8       69.2   22.1\n",
       "2   44.5   39.3       45.1   10.4\n",
       "3   17.2   45.9       69.3    9.3\n",
       "4  151.5   41.3       58.5   18.5\n",
       "5  180.8   10.8       58.4   12.9"
      ]
     },
     "execution_count": 14,
     "metadata": {},
     "output_type": "execute_result"
    }
   ],
   "source": [
    "adver_data.head()"
   ]
  },
  {
   "cell_type": "code",
   "execution_count": 15,
   "metadata": {},
   "outputs": [
    {
     "data": {
      "text/html": [
       "<div>\n",
       "<style scoped>\n",
       "    .dataframe tbody tr th:only-of-type {\n",
       "        vertical-align: middle;\n",
       "    }\n",
       "\n",
       "    .dataframe tbody tr th {\n",
       "        vertical-align: top;\n",
       "    }\n",
       "\n",
       "    .dataframe thead th {\n",
       "        text-align: right;\n",
       "    }\n",
       "</style>\n",
       "<table border=\"1\" class=\"dataframe\">\n",
       "  <thead>\n",
       "    <tr style=\"text-align: right;\">\n",
       "      <th></th>\n",
       "      <th>TV</th>\n",
       "      <th>Radio</th>\n",
       "      <th>Newspaper</th>\n",
       "      <th>Sales</th>\n",
       "    </tr>\n",
       "  </thead>\n",
       "  <tbody>\n",
       "    <tr>\n",
       "      <th>count</th>\n",
       "      <td>200.000000</td>\n",
       "      <td>200.000000</td>\n",
       "      <td>200.000000</td>\n",
       "      <td>200.000000</td>\n",
       "    </tr>\n",
       "    <tr>\n",
       "      <th>mean</th>\n",
       "      <td>147.042500</td>\n",
       "      <td>23.264000</td>\n",
       "      <td>30.554000</td>\n",
       "      <td>14.022500</td>\n",
       "    </tr>\n",
       "    <tr>\n",
       "      <th>std</th>\n",
       "      <td>85.854236</td>\n",
       "      <td>14.846809</td>\n",
       "      <td>21.778621</td>\n",
       "      <td>5.217457</td>\n",
       "    </tr>\n",
       "    <tr>\n",
       "      <th>min</th>\n",
       "      <td>0.700000</td>\n",
       "      <td>0.000000</td>\n",
       "      <td>0.300000</td>\n",
       "      <td>1.600000</td>\n",
       "    </tr>\n",
       "    <tr>\n",
       "      <th>25%</th>\n",
       "      <td>74.375000</td>\n",
       "      <td>9.975000</td>\n",
       "      <td>12.750000</td>\n",
       "      <td>10.375000</td>\n",
       "    </tr>\n",
       "    <tr>\n",
       "      <th>50%</th>\n",
       "      <td>149.750000</td>\n",
       "      <td>22.900000</td>\n",
       "      <td>25.750000</td>\n",
       "      <td>12.900000</td>\n",
       "    </tr>\n",
       "    <tr>\n",
       "      <th>75%</th>\n",
       "      <td>218.825000</td>\n",
       "      <td>36.525000</td>\n",
       "      <td>45.100000</td>\n",
       "      <td>17.400000</td>\n",
       "    </tr>\n",
       "    <tr>\n",
       "      <th>max</th>\n",
       "      <td>296.400000</td>\n",
       "      <td>49.600000</td>\n",
       "      <td>114.000000</td>\n",
       "      <td>27.000000</td>\n",
       "    </tr>\n",
       "  </tbody>\n",
       "</table>\n",
       "</div>"
      ],
      "text/plain": [
       "               TV       Radio   Newspaper       Sales\n",
       "count  200.000000  200.000000  200.000000  200.000000\n",
       "mean   147.042500   23.264000   30.554000   14.022500\n",
       "std     85.854236   14.846809   21.778621    5.217457\n",
       "min      0.700000    0.000000    0.300000    1.600000\n",
       "25%     74.375000    9.975000   12.750000   10.375000\n",
       "50%    149.750000   22.900000   25.750000   12.900000\n",
       "75%    218.825000   36.525000   45.100000   17.400000\n",
       "max    296.400000   49.600000  114.000000   27.000000"
      ]
     },
     "execution_count": 15,
     "metadata": {},
     "output_type": "execute_result"
    }
   ],
   "source": [
    "adver_data.describe()"
   ]
  },
  {
   "attachments": {},
   "cell_type": "markdown",
   "metadata": {},
   "source": [
    "**Create NumPy arrays *X* from the TV, Radio and Newspaper columns and *y* - from the Sales column. Use the *value* attribute of the pandas DataFrame object.**"
   ]
  },
  {
   "cell_type": "code",
   "execution_count": 19,
   "metadata": {},
   "outputs": [],
   "source": [
    "X = adver_data[['TV', 'Radio', 'Newspaper']].values\n",
    "y = adver_data['Sales'].values"
   ]
  },
  {
   "cell_type": "code",
   "execution_count": 20,
   "metadata": {},
   "outputs": [
    {
     "name": "stdout",
     "output_type": "stream",
     "text": [
      "[[230.1  37.8  69.2]\n",
      " [ 44.5  39.3  45.1]\n",
      " [ 17.2  45.9  69.3]\n",
      " [151.5  41.3  58.5]\n",
      " [180.8  10.8  58.4]\n",
      " [  8.7  48.9  75. ]\n",
      " [ 57.5  32.8  23.5]\n",
      " [120.2  19.6  11.6]\n",
      " [  8.6   2.1   1. ]\n",
      " [199.8   2.6  21.2]\n",
      " [ 66.1   5.8  24.2]\n",
      " [214.7  24.    4. ]\n",
      " [ 23.8  35.1  65.9]\n",
      " [ 97.5   7.6   7.2]\n",
      " [204.1  32.9  46. ]\n",
      " [195.4  47.7  52.9]\n",
      " [ 67.8  36.6 114. ]\n",
      " [281.4  39.6  55.8]\n",
      " [ 69.2  20.5  18.3]\n",
      " [147.3  23.9  19.1]\n",
      " [218.4  27.7  53.4]\n",
      " [237.4   5.1  23.5]\n",
      " [ 13.2  15.9  49.6]\n",
      " [228.3  16.9  26.2]\n",
      " [ 62.3  12.6  18.3]\n",
      " [262.9   3.5  19.5]\n",
      " [142.9  29.3  12.6]\n",
      " [240.1  16.7  22.9]\n",
      " [248.8  27.1  22.9]\n",
      " [ 70.6  16.   40.8]\n",
      " [292.9  28.3  43.2]\n",
      " [112.9  17.4  38.6]\n",
      " [ 97.2   1.5  30. ]\n",
      " [265.6  20.    0.3]\n",
      " [ 95.7   1.4   7.4]\n",
      " [290.7   4.1   8.5]\n",
      " [266.9  43.8   5. ]\n",
      " [ 74.7  49.4  45.7]\n",
      " [ 43.1  26.7  35.1]\n",
      " [228.   37.7  32. ]\n",
      " [202.5  22.3  31.6]\n",
      " [177.   33.4  38.7]\n",
      " [293.6  27.7   1.8]\n",
      " [206.9   8.4  26.4]\n",
      " [ 25.1  25.7  43.3]\n",
      " [175.1  22.5  31.5]\n",
      " [ 89.7   9.9  35.7]\n",
      " [239.9  41.5  18.5]\n",
      " [227.2  15.8  49.9]\n",
      " [ 66.9  11.7  36.8]\n",
      " [199.8   3.1  34.6]\n",
      " [100.4   9.6   3.6]\n",
      " [216.4  41.7  39.6]\n",
      " [182.6  46.2  58.7]\n",
      " [262.7  28.8  15.9]\n",
      " [198.9  49.4  60. ]\n",
      " [  7.3  28.1  41.4]\n",
      " [136.2  19.2  16.6]\n",
      " [210.8  49.6  37.7]\n",
      " [210.7  29.5   9.3]\n",
      " [ 53.5   2.   21.4]\n",
      " [261.3  42.7  54.7]\n",
      " [239.3  15.5  27.3]\n",
      " [102.7  29.6   8.4]\n",
      " [131.1  42.8  28.9]\n",
      " [ 69.    9.3   0.9]\n",
      " [ 31.5  24.6   2.2]\n",
      " [139.3  14.5  10.2]\n",
      " [237.4  27.5  11. ]\n",
      " [216.8  43.9  27.2]\n",
      " [199.1  30.6  38.7]\n",
      " [109.8  14.3  31.7]\n",
      " [ 26.8  33.   19.3]\n",
      " [129.4   5.7  31.3]\n",
      " [213.4  24.6  13.1]\n",
      " [ 16.9  43.7  89.4]\n",
      " [ 27.5   1.6  20.7]\n",
      " [120.5  28.5  14.2]\n",
      " [  5.4  29.9   9.4]\n",
      " [116.    7.7  23.1]\n",
      " [ 76.4  26.7  22.3]\n",
      " [239.8   4.1  36.9]\n",
      " [ 75.3  20.3  32.5]\n",
      " [ 68.4  44.5  35.6]\n",
      " [213.5  43.   33.8]\n",
      " [193.2  18.4  65.7]\n",
      " [ 76.3  27.5  16. ]\n",
      " [110.7  40.6  63.2]\n",
      " [ 88.3  25.5  73.4]\n",
      " [109.8  47.8  51.4]\n",
      " [134.3   4.9   9.3]\n",
      " [ 28.6   1.5  33. ]\n",
      " [217.7  33.5  59. ]\n",
      " [250.9  36.5  72.3]\n",
      " [107.4  14.   10.9]\n",
      " [163.3  31.6  52.9]\n",
      " [197.6   3.5   5.9]\n",
      " [184.9  21.   22. ]\n",
      " [289.7  42.3  51.2]\n",
      " [135.2  41.7  45.9]\n",
      " [222.4   4.3  49.8]\n",
      " [296.4  36.3 100.9]\n",
      " [280.2  10.1  21.4]\n",
      " [187.9  17.2  17.9]\n",
      " [238.2  34.3   5.3]\n",
      " [137.9  46.4  59. ]\n",
      " [ 25.   11.   29.7]\n",
      " [ 90.4   0.3  23.2]\n",
      " [ 13.1   0.4  25.6]\n",
      " [255.4  26.9   5.5]\n",
      " [225.8   8.2  56.5]\n",
      " [241.7  38.   23.2]\n",
      " [175.7  15.4   2.4]\n",
      " [209.6  20.6  10.7]\n",
      " [ 78.2  46.8  34.5]\n",
      " [ 75.1  35.   52.7]\n",
      " [139.2  14.3  25.6]\n",
      " [ 76.4   0.8  14.8]\n",
      " [125.7  36.9  79.2]\n",
      " [ 19.4  16.   22.3]\n",
      " [141.3  26.8  46.2]\n",
      " [ 18.8  21.7  50.4]\n",
      " [224.    2.4  15.6]\n",
      " [123.1  34.6  12.4]\n",
      " [229.5  32.3  74.2]\n",
      " [ 87.2  11.8  25.9]\n",
      " [  7.8  38.9  50.6]\n",
      " [ 80.2   0.    9.2]\n",
      " [220.3  49.    3.2]\n",
      " [ 59.6  12.   43.1]\n",
      " [  0.7  39.6   8.7]\n",
      " [265.2   2.9  43. ]\n",
      " [  8.4  27.2   2.1]\n",
      " [219.8  33.5  45.1]\n",
      " [ 36.9  38.6  65.6]\n",
      " [ 48.3  47.    8.5]\n",
      " [ 25.6  39.    9.3]\n",
      " [273.7  28.9  59.7]\n",
      " [ 43.   25.9  20.5]\n",
      " [184.9  43.9   1.7]\n",
      " [ 73.4  17.   12.9]\n",
      " [193.7  35.4  75.6]\n",
      " [220.5  33.2  37.9]\n",
      " [104.6   5.7  34.4]\n",
      " [ 96.2  14.8  38.9]\n",
      " [140.3   1.9   9. ]\n",
      " [240.1   7.3   8.7]\n",
      " [243.2  49.   44.3]\n",
      " [ 38.   40.3  11.9]\n",
      " [ 44.7  25.8  20.6]\n",
      " [280.7  13.9  37. ]\n",
      " [121.    8.4  48.7]\n",
      " [197.6  23.3  14.2]\n",
      " [171.3  39.7  37.7]\n",
      " [187.8  21.1   9.5]\n",
      " [  4.1  11.6   5.7]\n",
      " [ 93.9  43.5  50.5]\n",
      " [149.8   1.3  24.3]\n",
      " [ 11.7  36.9  45.2]\n",
      " [131.7  18.4  34.6]\n",
      " [172.5  18.1  30.7]\n",
      " [ 85.7  35.8  49.3]\n",
      " [188.4  18.1  25.6]\n",
      " [163.5  36.8   7.4]\n",
      " [117.2  14.7   5.4]\n",
      " [234.5   3.4  84.8]\n",
      " [ 17.9  37.6  21.6]\n",
      " [206.8   5.2  19.4]\n",
      " [215.4  23.6  57.6]\n",
      " [284.3  10.6   6.4]\n",
      " [ 50.   11.6  18.4]\n",
      " [164.5  20.9  47.4]\n",
      " [ 19.6  20.1  17. ]\n",
      " [168.4   7.1  12.8]\n",
      " [222.4   3.4  13.1]\n",
      " [276.9  48.9  41.8]\n",
      " [248.4  30.2  20.3]\n",
      " [170.2   7.8  35.2]\n",
      " [276.7   2.3  23.7]\n",
      " [165.6  10.   17.6]\n",
      " [156.6   2.6   8.3]\n",
      " [218.5   5.4  27.4]\n",
      " [ 56.2   5.7  29.7]\n",
      " [287.6  43.   71.8]\n",
      " [253.8  21.3  30. ]\n",
      " [205.   45.1  19.6]\n",
      " [139.5   2.1  26.6]\n",
      " [191.1  28.7  18.2]\n",
      " [286.   13.9   3.7]\n",
      " [ 18.7  12.1  23.4]\n",
      " [ 39.5  41.1   5.8]\n",
      " [ 75.5  10.8   6. ]\n",
      " [ 17.2   4.1  31.6]\n",
      " [166.8  42.    3.6]\n",
      " [149.7  35.6   6. ]\n",
      " [ 38.2   3.7  13.8]\n",
      " [ 94.2   4.9   8.1]\n",
      " [177.    9.3   6.4]\n",
      " [283.6  42.   66.2]\n",
      " [232.1   8.6   8.7]]\n"
     ]
    }
   ],
   "source": [
    "print(X)"
   ]
  },
  {
   "attachments": {},
   "cell_type": "markdown",
   "metadata": {},
   "source": [
    "**Scale the columns of the matrix *X* by subtracting the average of the corresponding column from each value and dividing the result by the standard deviation. For certainty, use the mean and std methods of NumPy vectors (the implementation of std in Pandas may differ). Note that in numpy, calling the .main() function without parameters returns the average for all elements of the array, and not for columns, as in pandas. To calculate by columns, you must specify the axis parameter.**"
   ]
  },
  {
   "cell_type": "code",
   "execution_count": 21,
   "metadata": {},
   "outputs": [],
   "source": [
    "means, stds = np.mean(X, axis=0), np.std(X, axis=0)"
   ]
  },
  {
   "cell_type": "code",
   "execution_count": 25,
   "metadata": {},
   "outputs": [
    {
     "name": "stdout",
     "output_type": "stream",
     "text": [
      "[147.0425  23.264   30.554 ] [85.63933176 14.80964564 21.72410606]\n"
     ]
    }
   ],
   "source": [
    "print(means,stds)"
   ]
  },
  {
   "cell_type": "code",
   "execution_count": 22,
   "metadata": {},
   "outputs": [],
   "source": [
    "X = (X - means)/stds "
   ]
  },
  {
   "attachments": {},
   "cell_type": "markdown",
   "metadata": {},
   "source": [
    "**Add a column of units to the matrix *X* using the *stack*, *one s* and *reshape* methods of the NumPy library. The vector of units is needed in order not to process the coefficient $w_0$ of linear regression separately.**"
   ]
  },
  {
   "cell_type": "code",
   "execution_count": 23,
   "metadata": {},
   "outputs": [
    {
     "data": {
      "text/plain": [
       "(200, 3)"
      ]
     },
     "execution_count": 23,
     "metadata": {},
     "output_type": "execute_result"
    }
   ],
   "source": [
    "X.shape"
   ]
  },
  {
   "cell_type": "code",
   "execution_count": 24,
   "metadata": {},
   "outputs": [],
   "source": [
    "X = np.hstack((np.ones((X.shape[0],1)),X)) "
   ]
  },
  {
   "attachments": {},
   "cell_type": "markdown",
   "metadata": {},
   "source": [
    "**2. Implement the *ms error* function - the root-mean-square error of the forecast. It takes two arguments - objects Series *y* (values of the target attribute) and *y\\_pred* (predicted values). Don't use loops in this function - then it will be computationally inefficient.**"
   ]
  },
  {
   "cell_type": "code",
   "execution_count": 26,
   "metadata": {},
   "outputs": [],
   "source": [
    "def mserror(y, y_pred):\n",
    "    return np.mean((y - y_pred)**2)"
   ]
  },
  {
   "attachments": {},
   "cell_type": "markdown",
   "metadata": {},
   "source": [
    "**What is the root-mean-square error of forecasting Sales values if we always predict the median value of Sales from the original sample? The resulting result, rounded to 3 decimal places, is the answer to *'1 task'.***"
   ]
  },
  {
   "cell_type": "code",
   "execution_count": 27,
   "metadata": {},
   "outputs": [
    {
     "name": "stdout",
     "output_type": "stream",
     "text": [
      "28.346\n"
     ]
    }
   ],
   "source": [
    "answer1 = mserror(y, np.median(y) * np.ones((len(y), 1)))\n",
    "print(round(answer1, 3))"
   ]
  },
  {
   "attachments": {},
   "cell_type": "markdown",
   "metadata": {},
   "source": [
    "**3. Implement the *normal_equation* function, which calculates the weight vector $w$ according to the normal linear regression equation using the given matrices (NumPy arrays) *X* and *y*.**"
   ]
  },
  {
   "cell_type": "code",
   "execution_count": 28,
   "metadata": {},
   "outputs": [
    {
     "data": {
      "text/plain": [
       "(200, 4)"
      ]
     },
     "execution_count": 28,
     "metadata": {},
     "output_type": "execute_result"
    }
   ],
   "source": [
    "np.shape(X)"
   ]
  },
  {
   "cell_type": "code",
   "execution_count": 29,
   "metadata": {},
   "outputs": [
    {
     "data": {
      "text/plain": [
       "array([[ 1.00000000e+00,  9.69852266e-01,  9.81522472e-01,\n",
       "         1.77894547e+00],\n",
       "       [ 1.00000000e+00, -1.19737623e+00,  1.08280781e+00,\n",
       "         6.69578760e-01],\n",
       "       [ 1.00000000e+00, -1.51615499e+00,  1.52846331e+00,\n",
       "         1.78354865e+00],\n",
       "       [ 1.00000000e+00,  5.20496822e-02,  1.21785493e+00,\n",
       "         1.28640506e+00],\n",
       "       [ 1.00000000e+00,  3.94182198e-01, -8.41613655e-01,\n",
       "         1.28180188e+00],\n",
       "       [ 1.00000000e+00, -1.61540845e+00,  1.73103399e+00,\n",
       "         2.04592999e+00],\n",
       "       [ 1.00000000e+00, -1.04557682e+00,  6.43904671e-01,\n",
       "        -3.24708413e-01],\n",
       "       [ 1.00000000e+00, -3.13436589e-01, -2.47406325e-01,\n",
       "        -8.72486994e-01],\n",
       "       [ 1.00000000e+00, -1.61657614e+00, -1.42906863e+00,\n",
       "        -1.36042422e+00],\n",
       "       [ 1.00000000e+00,  6.16042873e-01, -1.39530685e+00,\n",
       "        -4.30581584e-01],\n",
       "       [ 1.00000000e+00, -9.45155670e-01, -1.17923146e+00,\n",
       "        -2.92486143e-01],\n",
       "       [ 1.00000000e+00,  7.90028350e-01,  4.96973404e-02,\n",
       "        -1.22232878e+00],\n",
       "       [ 1.00000000e+00, -1.43908760e+00,  7.99208859e-01,\n",
       "         1.62704048e+00],\n",
       "       [ 1.00000000e+00, -5.78501712e-01, -1.05768905e+00,\n",
       "        -1.07502697e+00],\n",
       "       [ 1.00000000e+00,  6.66253447e-01,  6.50657027e-01,\n",
       "         7.11007392e-01],\n",
       "       [ 1.00000000e+00,  5.64664612e-01,  1.65000572e+00,\n",
       "         1.02862691e+00],\n",
       "       [ 1.00000000e+00, -9.25304978e-01,  9.00494200e-01,\n",
       "         3.84117072e+00],\n",
       "       [ 1.00000000e+00,  1.56887609e+00,  1.10306488e+00,\n",
       "         1.16211917e+00],\n",
       "       [ 1.00000000e+00, -9.08957349e-01, -1.86635121e-01,\n",
       "        -5.64073843e-01],\n",
       "       [ 1.00000000e+00,  3.00679600e-03,  4.29449843e-02,\n",
       "        -5.27248393e-01],\n",
       "       [ 1.00000000e+00,  8.33232798e-01,  2.99534513e-01,\n",
       "         1.05164281e+00],\n",
       "       [ 1.00000000e+00,  1.05509347e+00, -1.22649795e+00,\n",
       "        -3.24708413e-01],\n",
       "       [ 1.00000000e+00, -1.56286250e+00, -4.97243498e-01,\n",
       "         8.76721921e-01],\n",
       "       [ 1.00000000e+00,  9.48833887e-01, -4.29719938e-01,\n",
       "        -2.00422516e-01],\n",
       "       [ 1.00000000e+00, -9.89527805e-01, -7.20071247e-01,\n",
       "        -5.64073843e-01],\n",
       "       [ 1.00000000e+00,  1.35285385e+00, -1.33453565e+00,\n",
       "        -5.08835667e-01],\n",
       "       [ 1.00000000e+00, -4.83714657e-02,  4.07572210e-01,\n",
       "        -8.26455181e-01],\n",
       "       [ 1.00000000e+00,  1.08662104e+00, -4.43224650e-01,\n",
       "        -3.52327501e-01],\n",
       "       [ 1.00000000e+00,  1.18820988e+00,  2.59020377e-01,\n",
       "        -3.52327501e-01],\n",
       "       [ 1.00000000e+00, -8.92609721e-01, -4.90491142e-01,\n",
       "         4.71641962e-01],\n",
       "       [ 1.00000000e+00,  1.70316018e+00,  3.40048650e-01,\n",
       "         5.82118314e-01],\n",
       "       [ 1.00000000e+00, -3.98677796e-01, -3.95958157e-01,\n",
       "         3.70371972e-01],\n",
       "       [ 1.00000000e+00, -5.82004775e-01, -1.46958277e+00,\n",
       "        -2.55016247e-02],\n",
       "       [ 1.00000000e+00,  1.38438142e+00, -2.20396901e-01,\n",
       "        -1.39264649e+00],\n",
       "       [ 1.00000000e+00, -5.99520091e-01, -1.47633512e+00,\n",
       "        -1.06582061e+00],\n",
       "       [ 1.00000000e+00,  1.67747105e+00, -1.29402151e+00,\n",
       "        -1.01518562e+00],\n",
       "       [ 1.00000000e+00,  1.39956136e+00,  1.38666383e+00,\n",
       "        -1.17629696e+00],\n",
       "       [ 1.00000000e+00, -8.44734522e-01,  1.76479577e+00,\n",
       "         6.97197848e-01],\n",
       "       [ 1.00000000e+00, -1.21372386e+00,  2.32010953e-01,\n",
       "         2.09260624e-01],\n",
       "       [ 1.00000000e+00,  9.45330823e-01,  9.74770116e-01,\n",
       "         6.65620024e-02],\n",
       "       [ 1.00000000e+00,  6.47570443e-01, -6.50927121e-02,\n",
       "         4.81492770e-02],\n",
       "       [ 1.00000000e+00,  3.49810063e-01,  6.84418807e-01,\n",
       "         3.74975153e-01],\n",
       "       [ 1.00000000e+00,  1.71133400e+00,  2.99534513e-01,\n",
       "        -1.32359877e+00],\n",
       "       [ 1.00000000e+00,  6.98948705e-01, -1.00367020e+00,\n",
       "        -1.91216154e-01],\n",
       "       [ 1.00000000e+00, -1.42390765e+00,  1.64487393e-01,\n",
       "         5.86721496e-01],\n",
       "       [ 1.00000000e+00,  3.27623995e-01, -5.15880000e-02,\n",
       "         4.35460956e-02],\n",
       "       [ 1.00000000e+00, -6.69581357e-01, -9.02384859e-01,\n",
       "         2.36879713e-01],\n",
       "       [ 1.00000000e+00,  1.08428567e+00,  1.23135965e+00,\n",
       "        -5.54867481e-01],\n",
       "       [ 1.00000000e+00,  9.35989321e-01, -5.03995854e-01,\n",
       "         8.90531465e-01],\n",
       "       [ 1.00000000e+00, -9.35814168e-01, -7.80842451e-01,\n",
       "         2.87514708e-01],\n",
       "       [ 1.00000000e+00,  6.16042873e-01, -1.36154507e+00,\n",
       "         1.86244718e-01],\n",
       "       [ 1.00000000e+00, -5.44638766e-01, -9.22641928e-01,\n",
       "        -1.24074150e+00],\n",
       "       [ 1.00000000e+00,  8.09879042e-01,  1.24486436e+00,\n",
       "         4.16403786e-01],\n",
       "       [ 1.00000000e+00,  4.15200577e-01,  1.54872038e+00,\n",
       "         1.29561142e+00],\n",
       "       [ 1.00000000e+00,  1.35051848e+00,  3.73810430e-01,\n",
       "        -6.74550196e-01],\n",
       "       [ 1.00000000e+00,  6.05533683e-01,  1.76479577e+00,\n",
       "         1.35545278e+00],\n",
       "       [ 1.00000000e+00, -1.63175608e+00,  3.26543937e-01,\n",
       "         4.99261050e-01],\n",
       "       [ 1.00000000e+00, -1.26606546e-01, -2.74415749e-01,\n",
       "        -6.42327927e-01],\n",
       "       [ 1.00000000e+00,  7.44488528e-01,  1.77830048e+00,\n",
       "         3.28943340e-01],\n",
       "       [ 1.00000000e+00,  7.43320840e-01,  4.21076922e-01,\n",
       "        -9.78360166e-01],\n",
       "       [ 1.00000000e+00, -1.09228433e+00, -1.43582099e+00,\n",
       "        -4.21375221e-01],\n",
       "       [ 1.00000000e+00,  1.33417085e+00,  1.31238792e+00,\n",
       "         1.11148417e+00],\n",
       "       [ 1.00000000e+00,  1.07727954e+00, -5.24252922e-01,\n",
       "        -1.49787521e-01],\n",
       "       [ 1.00000000e+00, -5.17781948e-01,  4.27829278e-01,\n",
       "        -1.01978880e+00],\n",
       "       [ 1.00000000e+00, -1.86158622e-01,  1.31914027e+00,\n",
       "        -7.61366196e-02],\n",
       "       [ 1.00000000e+00, -9.11292725e-01, -9.42898996e-01,\n",
       "        -1.36502740e+00],\n",
       "       [ 1.00000000e+00, -1.34917564e+00,  9.02114765e-02,\n",
       "        -1.30518604e+00],\n",
       "       [ 1.00000000e+00, -9.04082253e-02, -5.91776482e-01,\n",
       "        -9.36931533e-01],\n",
       "       [ 1.00000000e+00,  1.05509347e+00,  2.86029801e-01,\n",
       "        -9.00106083e-01],\n",
       "       [ 1.00000000e+00,  8.14549794e-01,  1.39341619e+00,\n",
       "        -1.54390703e-01],\n",
       "       [ 1.00000000e+00,  6.07869059e-01,  4.95352838e-01,\n",
       "         3.74975153e-01],\n",
       "       [ 1.00000000e+00, -4.34876116e-01, -6.05281194e-01,\n",
       "         5.27524584e-02],\n",
       "       [ 1.00000000e+00, -1.40405696e+00,  6.57409383e-01,\n",
       "        -5.18042030e-01],\n",
       "       [ 1.00000000e+00, -2.06009314e-01, -1.18598381e+00,\n",
       "         3.43397329e-02],\n",
       "       [ 1.00000000e+00,  7.74848409e-01,  9.02114765e-02,\n",
       "        -8.03439274e-01],\n",
       "       [ 1.00000000e+00, -1.51965805e+00,  1.37991148e+00,\n",
       "         2.70878810e+00],\n",
       "       [ 1.00000000e+00, -1.39588315e+00, -1.46283041e+00,\n",
       "        -4.53597491e-01],\n",
       "       [ 1.00000000e+00, -3.09933525e-01,  3.53553362e-01,\n",
       "        -7.52804279e-01],\n",
       "       [ 1.00000000e+00, -1.65394214e+00,  4.48086346e-01,\n",
       "        -9.73756984e-01],\n",
       "       [ 1.00000000e+00, -3.62479475e-01, -1.05093669e+00,\n",
       "        -3.43121138e-01],\n",
       "       [ 1.00000000e+00, -8.24883830e-01,  2.32010953e-01,\n",
       "        -3.79946589e-01],\n",
       "       [ 1.00000000e+00,  1.08311798e+00, -1.29402151e+00,\n",
       "         2.92117889e-01],\n",
       "       [ 1.00000000e+00, -8.37728396e-01, -2.00139833e-01,\n",
       "         8.95779092e-02],\n",
       "       [ 1.00000000e+00, -9.18298852e-01,  1.43393033e+00,\n",
       "         2.32276531e-01],\n",
       "       [ 1.00000000e+00,  7.76016097e-01,  1.33264499e+00,\n",
       "         1.49419267e-01],\n",
       "       [ 1.00000000e+00,  5.38975481e-01, -3.28434597e-01,\n",
       "         1.61783412e+00],\n",
       "       [ 1.00000000e+00, -8.26051518e-01,  2.86029801e-01,\n",
       "        -6.69947015e-01],\n",
       "       [ 1.00000000e+00, -4.24366926e-01,  1.17058844e+00,\n",
       "         1.50275459e+00],\n",
       "       [ 1.00000000e+00, -6.85928986e-01,  1.50982681e-01,\n",
       "         1.97227908e+00],\n",
       "       [ 1.00000000e+00, -4.34876116e-01,  1.65675807e+00,\n",
       "         9.59579186e-01],\n",
       "       [ 1.00000000e+00, -1.48792614e-01, -1.24000266e+00,\n",
       "        -9.78360166e-01],\n",
       "       [ 1.00000000e+00, -1.38303858e+00, -1.46958277e+00,\n",
       "         1.12593816e-01],\n",
       "       [ 1.00000000e+00,  8.25058983e-01,  6.91171163e-01,\n",
       "         1.30942097e+00],\n",
       "       [ 1.00000000e+00,  1.21273132e+00,  8.93741844e-01,\n",
       "         1.92164409e+00],\n",
       "       [ 1.00000000e+00, -4.62900623e-01, -6.25538262e-01,\n",
       "        -9.04709264e-01],\n",
       "       [ 1.00000000e+00,  1.89836839e-01,  5.62876398e-01,\n",
       "         1.02862691e+00],\n",
       "       [ 1.00000000e+00,  5.90353742e-01, -1.33453565e+00,\n",
       "        -1.13486833e+00],\n",
       "       [ 1.00000000e+00,  4.42057396e-01, -1.52873340e-01,\n",
       "        -3.93756133e-01],\n",
       "       [ 1.00000000e+00,  1.66579418e+00,  1.28537849e+00,\n",
       "         9.50372823e-01],\n",
       "       [ 1.00000000e+00, -1.38283424e-01,  1.24486436e+00,\n",
       "         7.06404211e-01],\n",
       "       [ 1.00000000e+00,  8.79940308e-01, -1.28051680e+00,\n",
       "         8.85928284e-01],\n",
       "       [ 1.00000000e+00,  1.74402926e+00,  8.80237132e-01,\n",
       "         3.23815396e+00],\n",
       "       [ 1.00000000e+00,  1.55486384e+00, -8.88880147e-01,\n",
       "        -4.21375221e-01],\n",
       "       [ 1.00000000e+00,  4.77088029e-01, -4.09462869e-01,\n",
       "        -5.82486569e-01],\n",
       "       [ 1.00000000e+00,  1.06443498e+00,  7.45190011e-01,\n",
       "        -1.16248742e+00],\n",
       "       [ 1.00000000e+00, -1.06755854e-01,  1.56222509e+00,\n",
       "         1.30942097e+00],\n",
       "       [ 1.00000000e+00, -1.42507534e+00, -8.28108943e-01,\n",
       "        -3.93111688e-02],\n",
       "       [ 1.00000000e+00, -6.61407543e-01, -1.55061104e+00,\n",
       "        -3.38517957e-01],\n",
       "       [ 1.00000000e+00, -1.56403019e+00, -1.54385868e+00,\n",
       "        -2.28041604e-01],\n",
       "       [ 1.00000000e+00,  1.26527727e+00,  2.45515665e-01,\n",
       "        -1.15328106e+00],\n",
       "       [ 1.00000000e+00,  9.19641692e-01, -1.01717491e+00,\n",
       "         1.19434143e+00],\n",
       "       [ 1.00000000e+00,  1.10530405e+00,  9.95027184e-01,\n",
       "        -3.38517957e-01],\n",
       "       [ 1.00000000e+00,  3.34630122e-01, -5.31005278e-01,\n",
       "        -1.29597968e+00],\n",
       "       [ 1.00000000e+00,  7.30476274e-01, -1.79882765e-01,\n",
       "        -9.13915627e-01],\n",
       "       [ 1.00000000e+00, -8.03865450e-01,  1.58923451e+00,\n",
       "         1.81641536e-01],\n",
       "       [ 1.00000000e+00, -8.40063771e-01,  7.92456503e-01,\n",
       "         1.01942054e+00],\n",
       "       [ 1.00000000e+00, -9.15759131e-02, -6.05281194e-01,\n",
       "        -2.28041604e-01],\n",
       "       [ 1.00000000e+00, -8.24883830e-01, -1.51684926e+00,\n",
       "        -7.25185191e-01],\n",
       "       [ 1.00000000e+00, -2.49213762e-01,  9.20751268e-01,\n",
       "         2.23926360e+00],\n",
       "       [ 1.00000000e+00, -1.49046586e+00, -4.90491142e-01,\n",
       "        -3.79946589e-01],\n",
       "       [ 1.00000000e+00, -6.70544700e-02,  2.38763309e-01,\n",
       "         7.20213755e-01],\n",
       "       [ 1.00000000e+00, -1.49747198e+00, -1.05606848e-01,\n",
       "         9.13547372e-01],\n",
       "       [ 1.00000000e+00,  8.98623313e-01, -1.40881156e+00,\n",
       "        -6.88359740e-01],\n",
       "       [ 1.00000000e+00, -2.79573643e-01,  7.65447079e-01,\n",
       "        -8.35661544e-01],\n",
       "       [ 1.00000000e+00,  9.62846140e-01,  6.10142891e-01,\n",
       "         2.00910454e+00],\n",
       "       [ 1.00000000e+00, -6.98773552e-01, -7.74090095e-01,\n",
       "        -2.14232060e-01],\n",
       "       [ 1.00000000e+00, -1.62591764e+00,  1.05579839e+00,\n",
       "         9.22753735e-01],\n",
       "       [ 1.00000000e+00, -7.80511695e-01, -1.57086811e+00,\n",
       "        -9.82963347e-01],\n",
       "       [ 1.00000000e+00,  8.55418865e-01,  1.73778635e+00,\n",
       "        -1.25915423e+00],\n",
       "       [ 1.00000000e+00, -1.02105537e+00, -7.60585383e-01,\n",
       "         5.77515133e-01],\n",
       "       [ 1.00000000e+00, -1.70882347e+00,  1.10306488e+00,\n",
       "        -1.00597925e+00],\n",
       "       [ 1.00000000e+00,  1.37971067e+00, -1.37504978e+00,\n",
       "         5.72911952e-01],\n",
       "       [ 1.00000000e+00, -1.61891151e+00,  2.65772733e-01,\n",
       "        -1.30978922e+00],\n",
       "       [ 1.00000000e+00,  8.49580427e-01,  6.91171163e-01,\n",
       "         6.69578760e-01],\n",
       "       [ 1.00000000e+00, -1.28612050e+00,  1.03554132e+00,\n",
       "         1.61323094e+00],\n",
       "       [ 1.00000000e+00, -1.15300409e+00,  1.60273923e+00,\n",
       "        -1.01518562e+00],\n",
       "       [ 1.00000000e+00, -1.41806922e+00,  1.06255074e+00,\n",
       "        -9.78360166e-01],\n",
       "       [ 1.00000000e+00,  1.47896413e+00,  3.80562786e-01,\n",
       "         1.34164324e+00],\n",
       "       [ 1.00000000e+00, -1.21489154e+00,  1.77992105e-01,\n",
       "        -4.62803854e-01],\n",
       "       [ 1.00000000e+00,  4.42057396e-01,  1.39341619e+00,\n",
       "        -1.32820195e+00],\n",
       "       [ 1.00000000e+00, -8.59914463e-01, -4.22967582e-01,\n",
       "        -8.12645637e-01],\n",
       "       [ 1.00000000e+00,  5.44813920e-01,  8.19465927e-01,\n",
       "         2.07354907e+00],\n",
       "       [ 1.00000000e+00,  8.57754241e-01,  6.70914095e-01,\n",
       "         3.38149702e-01],\n",
       "       [ 1.00000000e+00, -4.95595880e-01, -1.18598381e+00,\n",
       "         1.77038355e-01],\n",
       "       [ 1.00000000e+00, -5.93681653e-01, -5.71519414e-01,\n",
       "         3.84181516e-01],\n",
       "       [ 1.00000000e+00, -7.87313476e-02, -1.44257334e+00,\n",
       "        -9.92169710e-01],\n",
       "       [ 1.00000000e+00,  1.08662104e+00, -1.07794612e+00,\n",
       "        -1.00597925e+00],\n",
       "       [ 1.00000000e+00,  1.12281936e+00,  1.73778635e+00,\n",
       "         6.32753309e-01],\n",
       "       [ 1.00000000e+00, -1.27327593e+00,  1.15033137e+00,\n",
       "        -8.58677450e-01],\n",
       "       [ 1.00000000e+00, -1.19504085e+00,  1.71239749e-01,\n",
       "        -4.58200672e-01],\n",
       "       [ 1.00000000e+00,  1.56070228e+00, -6.32290618e-01,\n",
       "         2.96721070e-01],\n",
       "       [ 1.00000000e+00, -3.04095087e-01, -1.00367020e+00,\n",
       "         8.35293289e-01],\n",
       "       [ 1.00000000e+00,  5.90353742e-01,  2.43084817e-03,\n",
       "        -7.52804279e-01],\n",
       "       [ 1.00000000e+00,  2.83251860e-01,  1.10981724e+00,\n",
       "         3.28943340e-01],\n",
       "       [ 1.00000000e+00,  4.75920341e-01, -1.46120984e-01,\n",
       "        -9.69153803e-01],\n",
       "       [ 1.00000000e+00, -1.66912209e+00, -7.87594807e-01,\n",
       "        -1.14407469e+00],\n",
       "       [ 1.00000000e+00, -6.20538471e-01,  1.36640677e+00,\n",
       "         9.18150553e-01],\n",
       "       [ 1.00000000e+00,  3.21989902e-02, -1.48308748e+00,\n",
       "        -2.87882962e-01],\n",
       "       [ 1.00000000e+00, -1.58037782e+00,  9.20751268e-01,\n",
       "         6.74181942e-01],\n",
       "       [ 1.00000000e+00, -1.79152496e-01, -3.28434597e-01,\n",
       "         1.86244718e-01],\n",
       "       [ 1.00000000e+00,  2.97264113e-01, -3.48691665e-01,\n",
       "         6.72064478e-03],\n",
       "       [ 1.00000000e+00, -7.16288868e-01,  8.46475352e-01,\n",
       "         8.62912377e-01],\n",
       "       [ 1.00000000e+00,  4.82926468e-01, -3.48691665e-01,\n",
       "        -2.28041604e-01],\n",
       "       [ 1.00000000e+00,  1.92172214e-01,  9.13998912e-01,\n",
       "        -1.06582061e+00],\n",
       "       [ 1.00000000e+00, -3.48467222e-01, -5.78271770e-01,\n",
       "        -1.15788424e+00],\n",
       "       [ 1.00000000e+00,  1.02123053e+00, -1.34128800e+00,\n",
       "         2.49704176e+00],\n",
       "       [ 1.00000000e+00, -1.50798117e+00,  9.68017760e-01,\n",
       "        -4.12168859e-01],\n",
       "       [ 1.00000000e+00,  6.97781017e-01, -1.21974559e+00,\n",
       "        -5.13438849e-01],\n",
       "       [ 1.00000000e+00,  7.98202165e-01,  2.26879163e-02,\n",
       "         1.24497643e+00],\n",
       "       [ 1.00000000e+00,  1.60273904e+00, -8.55118367e-01,\n",
       "        -1.11185242e+00],\n",
       "       [ 1.00000000e+00, -1.13315340e+00, -7.87594807e-01,\n",
       "        -5.59470662e-01],\n",
       "       [ 1.00000000e+00,  2.03849092e-01, -1.59625696e-01,\n",
       "         7.75451931e-01],\n",
       "       [ 1.00000000e+00, -1.48813048e+00, -2.13644545e-01,\n",
       "        -6.23915201e-01],\n",
       "       [ 1.00000000e+00,  2.49388915e-01, -1.09145083e+00,\n",
       "        -8.17248818e-01],\n",
       "       [ 1.00000000e+00,  8.79940308e-01, -1.34128800e+00,\n",
       "        -8.03439274e-01],\n",
       "       [ 1.00000000e+00,  1.51633014e+00,  1.73103399e+00,\n",
       "         5.17673775e-01],\n",
       "       [ 1.00000000e+00,  1.18353913e+00,  4.68343414e-01,\n",
       "        -4.72010216e-01],\n",
       "       [ 1.00000000e+00,  2.70407294e-01, -1.04418434e+00,\n",
       "         2.13863806e-01],\n",
       "       [ 1.00000000e+00,  1.51399477e+00, -1.41556392e+00,\n",
       "        -3.15502050e-01],\n",
       "       [ 1.00000000e+00,  2.16693657e-01, -8.95632503e-01,\n",
       "        -5.96296113e-01],\n",
       "       [ 1.00000000e+00,  1.11601758e-01, -1.39530685e+00,\n",
       "        -1.02439198e+00],\n",
       "       [ 1.00000000e+00,  8.34400486e-01, -1.20624088e+00,\n",
       "        -1.45184340e-01],\n",
       "       [ 1.00000000e+00, -1.06075676e+00, -1.18598381e+00,\n",
       "        -3.93111688e-02],\n",
       "       [ 1.00000000e+00,  1.64127273e+00,  1.33264499e+00,\n",
       "         1.89862818e+00],\n",
       "       [ 1.00000000e+00,  1.24659427e+00, -1.32616272e-01,\n",
       "        -2.55016247e-02],\n",
       "       [ 1.00000000e+00,  6.76762637e-01,  1.47444446e+00,\n",
       "        -5.04232486e-01],\n",
       "       [ 1.00000000e+00, -8.80728498e-02, -1.42906863e+00,\n",
       "        -1.82009791e-01],\n",
       "       [ 1.00000000e+00,  5.14454038e-01,  3.67058074e-01,\n",
       "        -5.68677025e-01],\n",
       "       [ 1.00000000e+00,  1.62258973e+00, -6.32290618e-01,\n",
       "        -1.23613832e+00],\n",
       "       [ 1.00000000e+00, -1.49863967e+00, -7.53833027e-01,\n",
       "        -3.29311594e-01],\n",
       "       [ 1.00000000e+00, -1.25576062e+00,  1.20435022e+00,\n",
       "        -1.13947151e+00],\n",
       "       [ 1.00000000e+00, -8.35393020e-01, -8.41613655e-01,\n",
       "        -1.13026515e+00],\n",
       "       [ 1.00000000e+00, -1.51615499e+00, -1.29402151e+00,\n",
       "         4.81492770e-02],\n",
       "       [ 1.00000000e+00,  2.30705910e-01,  1.26512143e+00,\n",
       "        -1.24074150e+00],\n",
       "       [ 1.00000000e+00,  3.10313024e-02,  8.32970639e-01,\n",
       "        -1.13026515e+00],\n",
       "       [ 1.00000000e+00, -1.27094056e+00, -1.32103093e+00,\n",
       "        -7.71217005e-01],\n",
       "       [ 1.00000000e+00, -6.17035408e-01, -1.24000266e+00,\n",
       "        -1.03359834e+00],\n",
       "       [ 1.00000000e+00,  3.49810063e-01, -9.42898996e-01,\n",
       "        -1.11185242e+00],\n",
       "       [ 1.00000000e+00,  1.59456522e+00,  1.26512143e+00,\n",
       "         1.64085003e+00],\n",
       "       [ 1.00000000e+00,  9.93206022e-01, -9.90165488e-01,\n",
       "        -1.00597925e+00]])"
      ]
     },
     "execution_count": 29,
     "metadata": {},
     "output_type": "execute_result"
    }
   ],
   "source": [
    "X"
   ]
  },
  {
   "cell_type": "code",
   "execution_count": 30,
   "metadata": {},
   "outputs": [],
   "source": [
    "def normal_equation(X, y):\n",
    "    return np.dot(np.dot(np.linalg.inv(np.dot(X.T, X)), X.T), y)"
   ]
  },
  {
   "cell_type": "code",
   "execution_count": 31,
   "metadata": {
    "scrolled": true
   },
   "outputs": [
    {
     "name": "stdout",
     "output_type": "stream",
     "text": [
      "[14.0225      3.91925365  2.79206274 -0.02253861]\n"
     ]
    }
   ],
   "source": [
    "norm_eq_weights = normal_equation(X, y)\n",
    "print(norm_eq_weights)"
   ]
  },
  {
   "cell_type": "code",
   "execution_count": 30,
   "metadata": {
    "scrolled": true
   },
   "outputs": [
    {
     "data": {
      "text/plain": [
       "(4,)"
      ]
     },
     "execution_count": 30,
     "metadata": {},
     "output_type": "execute_result"
    }
   ],
   "source": [
    "np.shape(norm_eq_weights)"
   ]
  },
  {
   "cell_type": "code",
   "execution_count": 31,
   "metadata": {},
   "outputs": [
    {
     "data": {
      "text/plain": [
       "array([147.0425,  23.264 ,  30.554 ])"
      ]
     },
     "execution_count": 31,
     "metadata": {},
     "output_type": "execute_result"
    }
   ],
   "source": [
    "means"
   ]
  },
  {
   "attachments": {},
   "cell_type": "markdown",
   "metadata": {},
   "source": [
    "**What sales are predicted by a linear model with weights found using a normal equation in the case of average investments in advertising on TV, radio and in newspapers? (that is, with zero values of scaled features of TV, Radio and Newspaper). The resulting result, rounded to 3 decimal places, is the answer to *'2 task'*.**"
   ]
  },
  {
   "cell_type": "code",
   "execution_count": 32,
   "metadata": {},
   "outputs": [
    {
     "name": "stdout",
     "output_type": "stream",
     "text": [
      "14.022\n"
     ]
    }
   ],
   "source": [
    "answer2 = np.dot(np.array([1, 0, 0, 0]), norm_eq_weights)\n",
    "print(round(answer2, 3))"
   ]
  },
  {
   "attachments": {},
   "cell_type": "markdown",
   "metadata": {},
   "source": [
    "**4. Write a function *linear_prediction*, which takes as input a matrix *X* and a vector of weights of a linear model *w*, and returns a vector of forecasts in the form of a linear combination of columns of the matrix *X* with weights *w*.**"
   ]
  },
  {
   "cell_type": "code",
   "execution_count": 33,
   "metadata": {},
   "outputs": [],
   "source": [
    "def linear_prediction(X, w):\n",
    "    return (np.dot(X,w))"
   ]
  },
  {
   "attachments": {},
   "cell_type": "markdown",
   "metadata": {},
   "source": [
    "**What is the root-mean-square error of forecasting Sales values in the form of a linear model with weights found using a normal equation?\n",
    "The resulting result, rounded to 3 decimal places, is the answer to *'3 task'***"
   ]
  },
  {
   "cell_type": "code",
   "execution_count": 35,
   "metadata": {},
   "outputs": [
    {
     "name": "stdout",
     "output_type": "stream",
     "text": [
      "2.784\n"
     ]
    }
   ],
   "source": [
    "answer3 = mserror(linear_prediction(X,norm_eq_weights), y)\n",
    "print(round(answer3, 3))"
   ]
  },
  {
   "attachments": {},
   "cell_type": "markdown",
   "metadata": {},
   "source": [
    "**5. Write a function *stochastic_gradient_step* that implements a step of stochastic gradient descent for linear regression. The function must take a matrix *X*, vectors *y* and *w*, the number *train_ind* - the index of the training sample object (rows of the matrix *X*), according to which the change in weights is calculated, as well as the number *$\\eta$* (eta) - the step of gradient descent (by default *eta*=0.01). The result will be a vector of updated weights. Our implementation of the function will be explicitly written for data with 3 attributes, but it is not difficult to modify for any number of attributes, you can do it.**"
   ]
  },
  {
   "cell_type": "code",
   "execution_count": 36,
   "metadata": {},
   "outputs": [],
   "source": [
    "def stochastic_gradient_step(X, y, w, train_ind, eta=0.01):\n",
    "    grad0 = np.sum(X[train_ind, :] * w - y[train_ind]) / len(y)\n",
    "    grad1 = X[train_ind, 1] * np.sum(X[train_ind, :] * w - y[train_ind]) / len(y)\n",
    "    grad2 = X[train_ind, 2] * np.sum(X[train_ind, :] * w - y[train_ind]) / len(y)\n",
    "    grad3 = X[train_ind, 3] * np.sum(X[train_ind, :] * w - y[train_ind]) / len(y)\n",
    "    return  w - 2 * eta * np.array([grad0, grad1, grad2, grad3])"
   ]
  },
  {
   "cell_type": "code",
   "execution_count": 38,
   "metadata": {},
   "outputs": [
    {
     "data": {
      "text/plain": [
       "200"
      ]
     },
     "execution_count": 38,
     "metadata": {},
     "output_type": "execute_result"
    }
   ],
   "source": [
    "len(X)"
   ]
  },
  {
   "attachments": {},
   "cell_type": "markdown",
   "metadata": {},
   "source": [
    "**6. Write a function *stochastic_gradient_descent* that implements stochastic gradient descent for linear regression. The function takes the following arguments as input:**\n",
    "- X is the matrix corresponding to the training sample\n",
    "- y is the vector of values of the target attribute\n",
    "- w_init - vector of initial weights of the model\n",
    "- eta - gradient descent step (0.01 by default)\n",
    "- max_iter - maximum number of gradient descent iterations (10000 by default)\n",
    "- min_weight_dist - maximum Euclidean distance between weight vectors on adjacent iterations of gradient descent,\n",
    "at which the algorithm stops working (by default 1e-8)\n",
    "- seed - the number used for reproducibility of generated pseudo-random numbers (42 by default)\n",
    "- verbose - the flag for printing information (for example, for debugging, False by default)\n",
    "\n",
    "**At each iteration, the current value of the root-mean-square error should be written to the vector (list). The function should return a vector of weights $w$, as well as a vector (list) of errors.**"
   ]
  },
  {
   "cell_type": "code",
   "execution_count": 48,
   "metadata": {},
   "outputs": [],
   "source": [
    "def stochastic_gradient_descent(X, y, w_init, seed=42, eta=1e-2, max_iter=1e4, min_weight_dist=1e-8, verbose=False):\n",
    "    # Initialize the distance between the vectors of weights on neighboring\n",
    "    # iterations with a large number.\n",
    "    weight_dist = np.inf\n",
    "    # Initialize the vector of weights\n",
    "    w = w_init\n",
    "    # Here we will record errors on each iteration\n",
    "    errors = []\n",
    "    # Iteration counter\n",
    "    iter_num = 0\n",
    "    # We will generate pseudo-random numbers \n",
    "    # (the number of the object that will change weights), and for reproducibility\n",
    "    # for this sequence of pseudorandom numbers, we use seed.\n",
    "    np.random.seed(seed)\n",
    "        \n",
    "    # Main cycle\n",
    "    while weight_dist > min_weight_dist and iter_num < max_iter:\n",
    "        # generating a pseudorandom \n",
    "        # index of the training sample object\n",
    "        random_ind = np.random.randint(X.shape[0])\n",
    "        \n",
    "        # Your code is here\n",
    "        w_tmp = w\n",
    "        w = stochastic_gradient_step(X, y, w, random_ind, eta)\n",
    "        errors.append(mserror(y, linear_prediction(X, w)))\n",
    "        \n",
    "        weight_dist = np.linalg.norm(w_tmp - w, 2)\n",
    "        iter_num += 1\n",
    "        \n",
    "    return w, errors"
   ]
  },
  {
   "attachments": {},
   "cell_type": "markdown",
   "metadata": {},
   "source": [
    "**Run $10^5$ iterations of stochastic gradient descent. Specify the vector of initial weights *w_init*, consisting of zeros. Leave the *eta* and *seed* parameters equal to their default values (*beta*=0.01, *seed*=42 - this is important for checking answers).**"
   ]
  },
  {
   "cell_type": "code",
   "execution_count": 49,
   "metadata": {},
   "outputs": [
    {
     "name": "stdout",
     "output_type": "stream",
     "text": [
      "CPU times: user 5.93 s, sys: 75.3 ms, total: 6.01 s\n",
      "Wall time: 6.01 s\n"
     ]
    }
   ],
   "source": [
    "%%time\n",
    "w_init = np.zeros(4)\n",
    "stoch_grad_desc_weights, stoch_errors_by_iter = stochastic_gradient_descent(X, y, np.array([0,0,0,0]), eta=0.01, max_iter=1e5)"
   ]
  },
  {
   "attachments": {},
   "cell_type": "markdown",
   "metadata": {},
   "source": [
    "**Let's see what the error is at the first 50 iterations of stochastic gradient descent. We see that the error does not necessarily decrease at each iteration.**"
   ]
  },
  {
   "cell_type": "code",
   "execution_count": 50,
   "metadata": {},
   "outputs": [
    {
     "name": "stdout",
     "output_type": "stream",
     "text": [
      "Populating the interactive namespace from numpy and matplotlib\n"
     ]
    },
    {
     "data": {
      "text/plain": [
       "Text(0, 0.5, 'MSE')"
      ]
     },
     "execution_count": 50,
     "metadata": {},
     "output_type": "execute_result"
    },
    {
     "data": {
      "image/png": "[encoded data removed]",
      "text/plain": [
       "<Figure size 432x288 with 1 Axes>"
      ]
     },
     "metadata": {
      "needs_background": "light"
     },
     "output_type": "display_data"
    }
   ],
   "source": [
    "%pylab inline\n",
    "plot(range(50), stoch_errors_by_iter[:50])\n",
    "xlabel('Iteration number')\n",
    "ylabel('MSE')"
   ]
  },
  {
   "attachments": {},
   "cell_type": "markdown",
   "metadata": {},
   "source": [
    "**Now let's look at the dependence of the error on the iteration number for $10^5$ iterations of stochastic gradient descent. We see that the algorithm converges.**"
   ]
  },
  {
   "cell_type": "code",
   "execution_count": 51,
   "metadata": {},
   "outputs": [
    {
     "name": "stdout",
     "output_type": "stream",
     "text": [
      "Populating the interactive namespace from numpy and matplotlib\n"
     ]
    },
    {
     "data": {
      "text/plain": [
       "Text(0, 0.5, 'MSE')"
      ]
     },
     "execution_count": 51,
     "metadata": {},
     "output_type": "execute_result"
    },
    {
     "data": {
      "image/png": "[encoded data removed]",
      "text/plain": [
       "<Figure size 432x288 with 1 Axes>"
      ]
     },
     "metadata": {
      "needs_background": "light"
     },
     "output_type": "display_data"
    }
   ],
   "source": [
    "%pylab inline\n",
    "plot(range(len(stoch_errors_by_iter)), stoch_errors_by_iter)\n",
    "xlabel('Iteration number')\n",
    "ylabel('MSE')"
   ]
  }
 ],
 "metadata": {
  "kernelspec": {
   "display_name": "Python 3",
   "language": "python",
   "name": "python3"
  },
  "language_info": {
   "codemirror_mode": {
    "name": "ipython",
    "version": 3
   },
   "file_extension": ".py",
   "mimetype": "text/x-python",
   "name": "python",
   "nbconvert_exporter": "python",
   "pygments_lexer": "ipython3",
   "version": "3.8.8"
  }
 },
 "nbformat": 4,
 "nbformat_minor": 1
}
