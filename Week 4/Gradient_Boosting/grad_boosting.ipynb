{
 "cells": [
  {
   "attachments": {},
   "cell_type": "markdown",
   "metadata": {},
   "source": [
    "# Gradient boosting with your own hands\n",
    "\n",
    "**Attention:** there have been changes in the text of the task - the number of trees has changed (now 50), the rule for changing the step value in task 3 and the `random_state` parameter for the decision tree has been added. The correct answers have not changed, but now they are easier to get. A typo in the `gbm_predict` function has also been fixed.\n",
    "\n",
    "This task will use the `boston` dataset from `sklearn.datasets`. Leave the last 25% of the objects for quality control by dividing `X` and `y` into `X_train`, `y_train` and `X_test`, `y_test`.\n",
    "\n",
    "The purpose of the task will be to implement a simple version of gradient boosting over regression trees for the case of a quadratic loss function."
   ]
  },
  {
   "cell_type": "code",
   "execution_count": 2,
   "metadata": {
    "collapsed": true
   },
   "outputs": [],
   "source": [
    "import numpy as np\n",
    "import matplotlib.pyplot as plt\n",
    "\n",
    "from sklearn import datasets, tree, ensemble\n",
    "from sklearn.metrics import mean_squared_error\n",
    "from sklearn.model_selection import train_test_split"
   ]
  },
  {
   "cell_type": "code",
   "execution_count": 3,
   "metadata": {},
   "outputs": [],
   "source": [
    "boston = datasets.load_boston()\n",
    "X, y = boston.data, boston.target\n",
    "\n",
    "X_train = X[:int(X.shape[0]*0.75),:]\n",
    "X_test = X[int(X.shape[0]*0.75):,:]\n",
    "y_train = y[:int(X.shape[0]*0.75)]\n",
    "y_test = y[int(X.shape[0]*0.75):]"
   ]
  },
  {
   "cell_type": "code",
   "execution_count": 4,
   "metadata": {},
   "outputs": [],
   "source": [
    "def write_answer(answer, file_name):\n",
    "    with open(file_name, \"w\") as fout:\n",
    "        fout.write(str(answer))"
   ]
  },
  {
   "attachments": {},
   "cell_type": "markdown",
   "metadata": {},
   "source": [
    "## Task 1\n",
    "\n",
    "As you already know from the lectures, **boosting** is a method of constructing compositions of basic algorithms by sequentially adding a new algorithm with a certain coefficient to the current composition. \n",
    "\n",
    "Gradient boosting trains each new algorithm so that it approximates the anti-gradient of the error by the composition responses on the training sample. Similarly to the minimization of functions by gradient descent, in gradient boosting we correct the composition by changing the algorithm in the direction of the anti-gradient of the error.\n",
    "\n",
    "Use the formula from the lectures that sets the answers to the training sample for which the new algorithm needs to be trained (in fact, this is just a slightly more detailed gradient from the error), and get a special case of it if the loss function `L` is the square of the deviation of the composition `a(x)` response from the correct answer `y` to given `x`.\n",
    "\n",
    "If you have not considered the derivative yourself for a long time, the table of derivatives of elementary functions (which is easy to find on the Internet) and the rule of differentiation of a complex function will help you. After differentiating the square, you will have a multiplier of 2 — because we still have to choose the coefficient with which the new basic algorithm will be added, ignore this multiplier in the further construction of the algorithm."
   ]
  },
  {
   "cell_type": "code",
   "execution_count": 8,
   "metadata": {
    "collapsed": true
   },
   "outputs": [],
   "source": [
    "def L(y, z):\n",
    "    return z - y"
   ]
  },
  {
   "attachments": {},
   "cell_type": "markdown",
   "metadata": {},
   "source": [
    "## Task 2\n",
    "\n",
    "Create an array for the `DecisionTreeRegressor` objects (we will use them as basic algorithms) and for real numbers (these will be coefficients before the basic algorithms). \n",
    "\n",
    "In the loop, train 50 decision trees sequentially with the parameters `max_depth=5` and `random_state=42` (the other parameters are by default). Hundreds and thousands of trees are often used in boosting, but we will limit ourselves to 50 so that the algorithm works faster and it is easier to debug (because the purpose of the task is to figure out how the method works). Each tree should be trained on the same set of objects, but the answers that the tree learns to predict will change in accordance with the rule obtained in task 1. \n",
    "\n",
    "Try to start by always taking a coefficient equal to 0.9. It is usually justified to choose a coefficient much smaller - about 0.05 or 0.1, but since in our training example there will be only 50 trees on a standard dataset, let's take a bigger step to begin with.\n",
    "\n",
    "In the process of implementing the training, you will need a function that will calculate the forecast of the currently constructed composition of trees on the sample `X`:\n",
    "\n",
    "```\n",
    "def gbm_predict(X):\n",
    "    return [sum([coeff * algo.predict([x])[0] for algo, coeff in zip(base_algorithms_list, coefficients_list)]) for x in X]\n",
    "(we assume that base_algorithms_list is a list with basic algorithms, and coefficients_list is a list with coefficients before algorithms)\n",
    "```\n",
    "\n",
    "The same function will help you to get a forecast on the control sample and evaluate the quality of your algorithm using `mean_squared_error` in `sklearn.metrics`. \n",
    "\n",
    "Raise the result to the power of 0.5 to get `RMSE`. The resulting value of `RMSE` is **the answer in paragraph 2**."
   ]
  },
  {
   "cell_type": "code",
   "execution_count": 1,
   "metadata": {
    "collapsed": true
   },
   "outputs": [],
   "source": [
    "def gbm_predict(X): \n",
    "    return [sum([coeff * algo.predict([x])[0] for algo, coeff in zip(base_algorithms_list, coefficients_list)]) for x in X] \n",
    "    #(we assume that base_algorithms_list is a list with basic algorithms, and coefficients_list is a list with coefficients before the algorithms)\n"
   ]
  },
  {
   "cell_type": "code",
   "execution_count": 11,
   "metadata": {},
   "outputs": [
    {
     "name": "stdout",
     "output_type": "stream",
     "text": [
      "5.455623403859612\n"
     ]
    }
   ],
   "source": [
    "def gbm_predict(X):\n",
    "    return [sum([coeff * algo.predict([x])[0] for algo, coeff in\n",
    "                 zip(base_algorithms_list, coefficients_list)]) for x in X]\n",
    "\n",
    "base_algorithms_list = list()\n",
    "coefficients_list    = list()\n",
    "y_cur = np.array(y_train)\n",
    "for i in range(50):\n",
    "    regressor = tree.DecisionTreeRegressor(max_depth=5, random_state=42).fit(X_train, y_cur)\n",
    "    base_algorithms_list.append(regressor)\n",
    "    coefficients_list.append(0.9)\n",
    "    \n",
    "    y_cur = L(gbm_predict(X_train), y_train)\n",
    "    \n",
    "error = np.sqrt(mean_squared_error(y_test, gbm_predict(X_test)))\n",
    "write_answer(error, 'answer_2.txt')\n",
    "print(error)"
   ]
  },
  {
   "attachments": {},
   "cell_type": "markdown",
   "metadata": {},
   "source": [
    "## Task 3\n",
    "\n",
    "You may also be concerned that moving with a constant step, near the minimum of the error, the answers in the training sample change too sharply, jumping over the minimum. \n",
    "\n",
    "Try to reduce the weight before each algorithm with each next iteration using the formula `0.9 / (1.0 + i)`, where `i` is the iteration number (from 0 to 49). Use the quality of the algorithm as the **answer in paragraph 3**. \n",
    "\n",
    "In reality , the following step selection strategy is often used: as soon as the algorithm is selected, we select the coefficient in front of it by numerical optimization method so that the deviation from the correct answers is minimal. We will not suggest that you implement this to complete the task, but we recommend that you try to figure out such a strategy and implement it for yourself on occasion."
   ]
  },
  {
   "cell_type": "code",
   "execution_count": 12,
   "metadata": {
    "collapsed": true
   },
   "outputs": [
    {
     "name": "stdout",
     "output_type": "stream",
     "text": [
      "4.812550945781193\n"
     ]
    }
   ],
   "source": [
    "base_algorithms_list = list()\n",
    "coefficients_list = list()\n",
    "y_cur = np.array(y_train)\n",
    "for i in range(50):\n",
    "    regressor = tree.DecisionTreeRegressor(max_depth=5, random_state=42).fit(X_train, y_cur)\n",
    "    base_algorithms_list.append(regressor)\n",
    "    coefficients_list.append(0.9 / (1.0 + i))\n",
    "    \n",
    "    y_cur = L(gbm_predict(X_train), y_train)\n",
    "\n",
    "error = np.sqrt(mean_squared_error(y_test, gbm_predict(X_test)))\n",
    "write_answer(error, 'answer_3.txt')\n",
    "print(error)"
   ]
  },
  {
   "attachments": {},
   "cell_type": "markdown",
   "metadata": {},
   "source": [
    "## Task 4\n",
    "\n",
    "The method you implemented - gradient boosting over trees - is very popular in machine learning. It is presented both in the `sklearn` library itself and in the third-party `XGBoost` library, which has its own python interface. In practice, `XGBoost` works noticeably better than `GradientBoostingRegressor` from `sklearn`, but you can use any implementation for this task. \n",
    "\n",
    "Investigate whether gradient boosting is retrained with an increase in the number of iterations (and think about why), as well as with an increase in the depth of trees. Based on the observations, write down the correct numbers of the statements given below, separated by a space, in ascending order of the number (this will be the **answer in paragraph 4**):\n",
    "\n",
    "    1. With an increase in the number of trees, starting from some point, the quality of gradient boosting does not change significantly.\n",
    "\n",
    "    2. With an increase in the number of trees, starting from some point, gradient boosting begins to retrain.\n",
    "\n",
    "    3. As the depth of the trees increases, starting from some point, the quality of gradient boosting on the test sample begins to deteriorate.\n",
    "\n",
    "    4. With the growth of the depth of trees, starting from some point, the quality of gradient boosting ceases to change significantly"
   ]
  },
  {
   "cell_type": "code",
   "execution_count": 19,
   "metadata": {
    "collapsed": true
   },
   "outputs": [
    {
     "name": "stdout",
     "output_type": "stream",
     "text": [
      "Populating the interactive namespace from numpy and matplotlib\n",
      "[8.814038583477592, 7.451904949335349, 6.752289155727839]\n",
      "[8.235281334243622, 6.672159496002175, 5.815544345863425]\n",
      "[8.60085780173012, 7.203194857681147, 6.404149203632535]\n",
      "[8.838918243844535, 7.509532677987691, 6.754800818647786]\n",
      "[8.984331847800611, 7.401716415501552, 6.723575179689815]\n",
      "[8.599233632661175, 7.305954162362749, 6.525896308436802]\n"
     ]
    },
    {
     "data": {
      "image/png": "[encoded data removed]",
      "text/plain": [
       "<Figure size 1152x792 with 6 Axes>"
      ]
     },
     "metadata": {
      "needs_background": "light"
     },
     "output_type": "display_data"
    }
   ],
   "source": [
    "from sklearn.ensemble import GradientBoostingRegressor\n",
    "%pylab inline\n",
    "\n",
    "trees = np.array([5, 10, 15, 20, 30, 40, 50, 60, 70, 100])\n",
    "depths = np.array([3, 5, 7, 10, 15, 22])\n",
    "plt.figure(figsize=(16, 11))\n",
    "i = 1\n",
    "for d in depths:\n",
    "    scores_train, scores_test = list(), list()\n",
    "    for num in trees:\n",
    "        boost = GradientBoostingRegressor(n_estimators=num, max_depth=d, random_state=42).fit(X_train, y_train)\n",
    "        scores_train.append(np.sqrt(mean_squared_error(y_train, boost.predict(X_train))))\n",
    "        scores_test.append(np.sqrt(mean_squared_error(y_test, boost.predict(X_test))))\n",
    "    print(scores_test[:3])\n",
    "    ax = plt.subplot(3, 3, i)\n",
    "    ax.set_title(\"forest {} depth\".format(d))\n",
    "    plt.plot(trees, scores_train, color=\"red\", label=\"train\")\n",
    "    plt.plot(trees, scores_test, color=\"blue\", label=\"test\")\n",
    "    plt.xlabel(\"trees\")\n",
    "    plt.ylabel(\"score\")\n",
    "    plt.legend()\n",
    "    i += 1\n",
    "write_answer('2 3', 'answer_4.txt')"
   ]
  },
  {
   "attachments": {},
   "cell_type": "markdown",
   "metadata": {},
   "source": [
    "## Task 5\n",
    "\n",
    "Compare the quality obtained using gradient boosting with the quality of linear regression. \n",
    "\n",
    "To do this, train the `Linear Regression` from `sklearn.linear_model` (with default parameters) on the training sample and evaluate the predictions of the resulting algorithm on the test sample `RMSE'. The received quality is the answer in **point 5**. \n",
    "\n",
    "In this example, the quality of a simple model should have been worse, but do not forget that this does not always happen. In the assignments for this course, you will still find an example of the opposite situation."
   ]
  },
  {
   "cell_type": "code",
   "execution_count": 14,
   "metadata": {
    "collapsed": true
   },
   "outputs": [
    {
     "name": "stdout",
     "output_type": "stream",
     "text": [
      "8.25497975354915\n"
     ]
    }
   ],
   "source": [
    "from sklearn.linear_model import LinearRegression\n",
    "\n",
    "regr = LinearRegression().fit(X_train, y_train)\n",
    "pred = regr.predict(X_test)\n",
    "error = np.sqrt(mean_squared_error(y_test, pred))\n",
    "write_answer(error, 'answer_5.txt')\n",
    "print(error)"
   ]
  },
  {
   "cell_type": "code",
   "execution_count": null,
   "metadata": {},
   "outputs": [],
   "source": []
  }
 ],
 "metadata": {
  "kernelspec": {
   "display_name": "base",
   "language": "python",
   "name": "python3"
  },
  "language_info": {
   "codemirror_mode": {
    "name": "ipython",
    "version": 3
   },
   "file_extension": ".py",
   "mimetype": "text/x-python",
   "name": "python",
   "nbconvert_exporter": "python",
   "pygments_lexer": "ipython3",
   "version": "3.8.8"
  },
  "vscode": {
   "interpreter": {
    "hash": "01a8823c386c37fce22bc7ecdcf505593f4e1d915a0fd0e54621f778266abb06"
   }
  }
 },
 "nbformat": 4,
 "nbformat_minor": 1
}
